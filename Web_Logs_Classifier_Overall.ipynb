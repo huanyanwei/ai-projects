{
  "nbformat": 4,
  "nbformat_minor": 0,
  "metadata": {
    "colab": {
      "name": " Web Logs Classifier-Overall.ipynb",
      "provenance": [],
      "collapsed_sections": [],
      "toc_visible": true,
      "authorship_tag": "ABX9TyMhd3e4Da2qSxQ4IIVUhQvZ",
      "include_colab_link": true
    },
    "kernelspec": {
      "name": "python3",
      "display_name": "Python 3"
    },
    "language_info": {
      "name": "python"
    },
    "accelerator": "GPU"
  },
  "cells": [
    {
      "cell_type": "markdown",
      "metadata": {
        "id": "view-in-github",
        "colab_type": "text"
      },
      "source": [
        "<a href=\"https://colab.research.google.com/github/huanyanwei/ai-projects/blob/main/Web_Logs_Classifier_Overall.ipynb\" target=\"_parent\"><img src=\"https://colab.research.google.com/assets/colab-badge.svg\" alt=\"Open In Colab\"/></a>"
      ]
    },
    {
      "cell_type": "markdown",
      "metadata": {
        "id": "HGzmLaAdK8K9"
      },
      "source": [
        "# Web Logs Classfier\n",
        "\n",
        "**Objective: To distinguish web server logs generated from normal web surfing and logs generated due to malicous actions performed by attacker.**\n",
        "\n",
        "\n",
        "\n",
        "\n",
        "\n",
        "Input: \n",
        "\n",
        "To be able to detect if logs is potentially malicious + what kind of potential attack\n"
      ]
    },
    {
      "cell_type": "markdown",
      "metadata": {
        "id": "aNhE0kZCkXIm"
      },
      "source": [
        "# Key Info\n",
        "\n",
        "Source of web server logs - GET Requests from Apache Web Server hosted in Damn Vulnerable Web App (DVWA)"
      ]
    },
    {
      "cell_type": "markdown",
      "metadata": {
        "id": "vqQmydk6kgHT"
      },
      "source": [
        "## Log Generation\n",
        "\n",
        "Logs are generated mainly thorugh fuzzing using Turbo Intruder module in Burpsuite. \n",
        "\n",
        "1.   **Normal Logs (normal)**\n",
        "\n",
        "> * *Injection path:  `/DVWA/vulnerabilities/fi/?page=xxx`*\n",
        "\n",
        ">> `/usr/share/wordlists/wfuzz/general/medium.txt`\n",
        "\n",
        ">> `/usr/share/wordlists/wfuzz/others/names.txt`\n",
        "\n",
        "> * By manually clicking around the web app\n",
        "\n",
        "2.  **Directory Traversal (dir)** \n",
        "\n",
        "> * *Injection path:  `/DVWA/vulnerabilities/fi/?page=xxx`*\n",
        "\n",
        ">> `/usr/share/wordlists/wfuzz/Injections/Traversal.txt` from Kali\n",
        "\n",
        ">> `/Directory Traversal/Intruder/deep_traversal.txt` from https://github.com/swisskyrepo/PayloadsAllTheThings/tree/master/Directory%20Traversal\n",
        "\n",
        ">> (Not Tested) Other files from https://github.com/swisskyrepo/PayloadsAllTheThings/tree/master/Directory%20Traversal\n",
        "\n",
        ">> (Not Tested) Files from `SecLists/Fuzzing/LFI/` from https://github.com/danielmiessler/SecLists\n",
        "\n",
        "3.   **Cross Site Scripting (xss)**\n",
        "\n",
        "> * *Injection path: `/DVWA/vulnerabilities/xss_r/?name=xxx`*\n",
        "\n",
        ">> `/xss-payload-list-master/Intruder/xss-payload.txt` from https://github.com/payloadbox/xss-payload-list\n",
        "\n",
        ">>`README.md` from https://github.com/payloadbox/xss-payload-list/blob/master/README.md\n",
        "\n",
        ">> `/usr/share/wordlists/wfuzz/Injections/XSS.txt` from Kali"
      ]
    },
    {
      "cell_type": "markdown",
      "metadata": {
        "id": "4paB6II9kvA5"
      },
      "source": [
        "## Logs Labelling\n",
        "\n",
        "* After logs have been generated, logs are extracted from web server and labelled depending which catogary it falls into. \n",
        "\n",
        "* **0 means that the log entry IS NOT the category.**\n",
        "* **1 means that the log entry IS under the category.**\n",
        "\n",
        "* Logs entries are then shuffled and saved into a train.csv and test.csv files. "
      ]
    },
    {
      "cell_type": "markdown",
      "metadata": {
        "id": "adYSMcLLk8UB"
      },
      "source": [
        "# Sample Code \n",
        "\n",
        "**Using Tensorflow to classify labelled web logs (normal vs XSS vs dir traversal)**"
      ]
    },
    {
      "cell_type": "markdown",
      "metadata": {
        "id": "kmUwsYfdL1Tl"
      },
      "source": [
        "## Import libraries"
      ]
    },
    {
      "cell_type": "code",
      "metadata": {
        "id": "VenSuarl9UNY"
      },
      "source": [
        "%tensorflow_version 2.x"
      ],
      "execution_count": null,
      "outputs": []
    },
    {
      "cell_type": "code",
      "metadata": {
        "id": "cVv1oMrAsMb0"
      },
      "source": [
        "import pandas as pd\n",
        "import numpy as np\n",
        "\n",
        "import tensorflow as tf\n",
        "\n",
        "from tensorflow.keras.preprocessing import sequence\n",
        "from tensorflow.keras.preprocessing.text import Tokenizer, text_to_word_sequence\n",
        "\n",
        "from tensorflow.keras.optimizers import Adam"
      ],
      "execution_count": null,
      "outputs": []
    },
    {
      "cell_type": "code",
      "metadata": {
        "id": "0JcUdFtd9cxp"
      },
      "source": [
        "import tensorflow as tf\n",
        "physical_devices = tf.config.list_physical_devices('GPU')\n",
        "tf.config.experimental.set_memory_growth(physical_devices[0], enable=True)"
      ],
      "execution_count": null,
      "outputs": []
    },
    {
      "cell_type": "markdown",
      "metadata": {
        "id": "MKemxYo4md1b"
      },
      "source": [
        "## Data preparation\n",
        "\n",
        "Train data is for training of the model.\n",
        "Test data is for validation of the model after the completion of the training. "
      ]
    },
    {
      "cell_type": "code",
      "metadata": {
        "colab": {
          "base_uri": "https://localhost:8080/",
          "height": 197
        },
        "id": "9jZZWKp3syVH",
        "outputId": "239e225d-08c1-4787-e0bf-738df58c6f2f"
      },
      "source": [
        "train_df = pd.read_csv(\"./train.csv\")\n",
        "test_df = pd.read_csv(\"./test.csv\")\n",
        "\n",
        "train_df.head()"
      ],
      "execution_count": null,
      "outputs": [
        {
          "output_type": "execute_result",
          "data": {
            "text/html": [
              "<div>\n",
              "<style scoped>\n",
              "    .dataframe tbody tr th:only-of-type {\n",
              "        vertical-align: middle;\n",
              "    }\n",
              "\n",
              "    .dataframe tbody tr th {\n",
              "        vertical-align: top;\n",
              "    }\n",
              "\n",
              "    .dataframe thead th {\n",
              "        text-align: right;\n",
              "    }\n",
              "</style>\n",
              "<table border=\"1\" class=\"dataframe\">\n",
              "  <thead>\n",
              "    <tr style=\"text-align: right;\">\n",
              "      <th></th>\n",
              "      <th>Unnamed: 0</th>\n",
              "      <th>url</th>\n",
              "      <th>normal</th>\n",
              "      <th>xss</th>\n",
              "      <th>dir</th>\n",
              "    </tr>\n",
              "  </thead>\n",
              "  <tbody>\n",
              "    <tr>\n",
              "      <th>0</th>\n",
              "      <td>2631</td>\n",
              "      <td>127.0.0.1 - - [03/May/2021:10:05:27 -0400] \"GE...</td>\n",
              "      <td>0</td>\n",
              "      <td>0</td>\n",
              "      <td>1</td>\n",
              "    </tr>\n",
              "    <tr>\n",
              "      <th>1</th>\n",
              "      <td>16052</td>\n",
              "      <td>127.0.0.1 - - [03/May/2021:03:22:18 -0400] \"GE...</td>\n",
              "      <td>1</td>\n",
              "      <td>0</td>\n",
              "      <td>0</td>\n",
              "    </tr>\n",
              "    <tr>\n",
              "      <th>2</th>\n",
              "      <td>17721</td>\n",
              "      <td>127.0.0.1 - - [03/May/2021:03:17:50 -0400] \"GE...</td>\n",
              "      <td>1</td>\n",
              "      <td>0</td>\n",
              "      <td>0</td>\n",
              "    </tr>\n",
              "    <tr>\n",
              "      <th>3</th>\n",
              "      <td>4232</td>\n",
              "      <td>127.0.0.1 - - [03/May/2021:03:11:22 -0400] \"GE...</td>\n",
              "      <td>1</td>\n",
              "      <td>0</td>\n",
              "      <td>0</td>\n",
              "    </tr>\n",
              "    <tr>\n",
              "      <th>4</th>\n",
              "      <td>20011</td>\n",
              "      <td>127.0.0.1 - - [03/May/2021:03:14:42 -0400] \"GE...</td>\n",
              "      <td>1</td>\n",
              "      <td>0</td>\n",
              "      <td>0</td>\n",
              "    </tr>\n",
              "  </tbody>\n",
              "</table>\n",
              "</div>"
            ],
            "text/plain": [
              "   Unnamed: 0                                                url  ...  xss  dir\n",
              "0        2631  127.0.0.1 - - [03/May/2021:10:05:27 -0400] \"GE...  ...    0    1\n",
              "1       16052  127.0.0.1 - - [03/May/2021:03:22:18 -0400] \"GE...  ...    0    0\n",
              "2       17721  127.0.0.1 - - [03/May/2021:03:17:50 -0400] \"GE...  ...    0    0\n",
              "3        4232  127.0.0.1 - - [03/May/2021:03:11:22 -0400] \"GE...  ...    0    0\n",
              "4       20011  127.0.0.1 - - [03/May/2021:03:14:42 -0400] \"GE...  ...    0    0\n",
              "\n",
              "[5 rows x 5 columns]"
            ]
          },
          "metadata": {
            "tags": []
          },
          "execution_count": 4
        }
      ]
    },
    {
      "cell_type": "code",
      "metadata": {
        "colab": {
          "base_uri": "https://localhost:8080/",
          "height": 53
        },
        "id": "UXPA2SZbs4AO",
        "outputId": "7315e245-c1c0-438b-8ef1-72e57952f843"
      },
      "source": [
        "# To extract all url entries\n",
        "# X_train will be the input of the training later\n",
        "\n",
        "X_train = train_df[\"url\"].values\n",
        "X_test = test_df[\"url\"].values\n",
        "\n",
        "X_train[0]"
      ],
      "execution_count": null,
      "outputs": [
        {
          "output_type": "execute_result",
          "data": {
            "application/vnd.google.colaboratory.intrinsic+json": {
              "type": "string"
            },
            "text/plain": [
              "'127.0.0.1 - - [03/May/2021:10:05:27 -0400] \"GET /DVWA/vulnerabilities/fi/?page=..%25c1%259c..%25c1%259c..%25c1%259c..%25c1%259c..%25c1%259c..%25c1%259cetc%25c1%259passwd HTTP/1.1\" 200 1350 \"http://127.0.0.1/DVWA/vulnerabilities/fi/?page=include.php\" \"Mozilla/5.0 (X11; Linux x86_64; rv:68.0) Gecko/20100101 Firefox/68.0\"'"
            ]
          },
          "metadata": {
            "tags": []
          },
          "execution_count": 5
        }
      ]
    },
    {
      "cell_type": "code",
      "metadata": {
        "colab": {
          "base_uri": "https://localhost:8080/"
        },
        "id": "A8-2se-bzyXS",
        "outputId": "cba97f39-35cf-4a15-bb81-52f42310b79e"
      },
      "source": [
        "# To extarct the labels of the repective url entries and save under y_train\n",
        "\n",
        "y_train = train_df[['normal','xss','dir']].values\n",
        "\n",
        "y_train[0]"
      ],
      "execution_count": null,
      "outputs": [
        {
          "output_type": "execute_result",
          "data": {
            "text/plain": [
              "array([0, 0, 1])"
            ]
          },
          "metadata": {
            "tags": []
          },
          "execution_count": 7
        }
      ]
    },
    {
      "cell_type": "markdown",
      "metadata": {
        "id": "DCWYLeE6nw-0"
      },
      "source": [
        "We will need to tokenise all the unique strings in the entries as a numerical token."
      ]
    },
    {
      "cell_type": "code",
      "metadata": {
        "colab": {
          "base_uri": "https://localhost:8080/"
        },
        "id": "ORBbdR6Y1H1p",
        "outputId": "f2f804ac-ae62-4bca-bee6-c487a13ace72"
      },
      "source": [
        "# create the tokenizer\n",
        "t = Tokenizer()\n",
        "\n",
        "# Get the total number of words from all datasets (i.e. train2, valdn and test)\n",
        "all_comments = list (X_train) + list (X_test)\n",
        "print(\"There are a total of\", len(all_comments), \"logs in all of the data\")\n",
        "\n",
        "# fit the tokenizer on the documents\n",
        "t.fit_on_texts(all_comments)\n",
        "\n",
        "# summarize what was learned\n",
        "total_num_of_words = len(t.word_counts)\n",
        "print(\"There are a total of\", total_num_of_words, \"distinct words in all of the data\")"
      ],
      "execution_count": null,
      "outputs": [
        {
          "output_type": "stream",
          "text": [
            "There are a total of 20526 logs in all of the data\n",
            "There are a total of 11702 distinct words in all of the data\n"
          ],
          "name": "stdout"
        }
      ]
    },
    {
      "cell_type": "code",
      "metadata": {
        "colab": {
          "base_uri": "https://localhost:8080/"
        },
        "id": "4FOtS0LS23Es",
        "outputId": "5f56195f-527a-4812-e6ec-260da3a901bf"
      },
      "source": [
        "# Encode all the strings in X_train to tokens\n",
        "X_train_encoded = t.texts_to_sequences(X_train)\n",
        "\n",
        "# Pad sequences such that all strings will be of a standardise length (i.e. 50 in this case)\n",
        "from tensorflow.keras.preprocessing.sequence import pad_sequences\n",
        "\n",
        "max_length = 50\n",
        "\n",
        "# Padding is done before the string\n",
        "X_train_encoded_padded = pad_sequences(X_train_encoded, maxlen=max_length, padding='pre')\n",
        "X_train_encoded_padded[1]"
      ],
      "execution_count": null,
      "outputs": [
        {
          "output_type": "execute_result",
          "data": {
            "text/plain": [
              "array([   0,    0,    0,    5,    1,    1,    2,    3,   14,   11,    3,\n",
              "         56,   73,   12,   13,    4,    6,    7,    8,   15, 2234,    9,\n",
              "          2,    2,   26,   32,    9,    5,    1,    1,    2,    4,    6,\n",
              "          7,    8,   17,   16,    1,   18,   21,   22,   19,   23,   10,\n",
              "          1,   20,   24,   25,   10,    1], dtype=int32)"
            ]
          },
          "metadata": {
            "tags": []
          },
          "execution_count": 9
        }
      ]
    },
    {
      "cell_type": "code",
      "metadata": {
        "colab": {
          "base_uri": "https://localhost:8080/"
        },
        "id": "mE5ohJqLwYte",
        "outputId": "2016dc0e-25c7-4abb-d8cc-6c6e2e355ee3"
      },
      "source": [
        "y_train.shape"
      ],
      "execution_count": null,
      "outputs": [
        {
          "output_type": "execute_result",
          "data": {
            "text/plain": [
              "(16420, 3)"
            ]
          },
          "metadata": {
            "tags": []
          },
          "execution_count": 10
        }
      ]
    },
    {
      "cell_type": "markdown",
      "metadata": {
        "id": "hJD0ozoVMGQ6"
      },
      "source": [
        "## Tensorflow Model Building\n",
        "\n",
        "**Model below is copied over from NLP. No idea how to improve...**\n",
        "\n",
        "Can refer to https://towardsdatascience.com/deep-learning-which-loss-and-activation-functions-should-i-use-ac02f1c56aa8"
      ]
    },
    {
      "cell_type": "code",
      "metadata": {
        "id": "BJeO4z7B0Ov8"
      },
      "source": [
        "# Need to change the Dropout rate, activation function?\n",
        "\n",
        "from tensorflow.keras.models import Model\n",
        "from tensorflow.keras.layers import LSTM, Dense, Dropout, Input, Embedding, GlobalMaxPooling1D\n",
        "from tensorflow.keras.optimizers import RMSprop\n",
        "\n",
        "Inp = Input(name='inputs',shape=[max_length])\n",
        "x = Embedding(total_num_of_words + 1, 50, input_length=max_length)(Inp)\n",
        "x = GlobalMaxPooling1D()(x)\n",
        "x = Dropout(0.5,name='Dropout')(x)\n",
        "\n",
        "# Change Number of Output based on number of columns.\n",
        "out = Dense(3,activation='sigmoid', name='output')(x)"
      ],
      "execution_count": null,
      "outputs": []
    },
    {
      "cell_type": "code",
      "metadata": {
        "colab": {
          "base_uri": "https://localhost:8080/"
        },
        "id": "dZpcTzpu45FJ",
        "outputId": "4045ca11-f651-425e-db77-aee171ce1f0e"
      },
      "source": [
        "model2 = Model(inputs=Inp,outputs=out)\n",
        "# Need to change loss and optimiser?\n",
        "model2.compile(loss='binary_crossentropy',optimizer=Adam(0.01),metrics=['accuracy'])\n",
        "\n",
        "model2.summary()"
      ],
      "execution_count": null,
      "outputs": [
        {
          "output_type": "stream",
          "text": [
            "Model: \"model\"\n",
            "_________________________________________________________________\n",
            "Layer (type)                 Output Shape              Param #   \n",
            "=================================================================\n",
            "inputs (InputLayer)          [(None, 50)]              0         \n",
            "_________________________________________________________________\n",
            "embedding (Embedding)        (None, 50, 50)            585150    \n",
            "_________________________________________________________________\n",
            "global_max_pooling1d (Global (None, 50)                0         \n",
            "_________________________________________________________________\n",
            "Dropout (Dropout)            (None, 50)                0         \n",
            "_________________________________________________________________\n",
            "output (Dense)               (None, 3)                 153       \n",
            "=================================================================\n",
            "Total params: 585,303\n",
            "Trainable params: 585,303\n",
            "Non-trainable params: 0\n",
            "_________________________________________________________________\n"
          ],
          "name": "stdout"
        }
      ]
    },
    {
      "cell_type": "markdown",
      "metadata": {
        "id": "c8TkvtLTo2E8"
      },
      "source": [
        "## Training of model\n",
        "\n",
        "Input X_train and label y_train for training."
      ]
    },
    {
      "cell_type": "code",
      "metadata": {
        "colab": {
          "base_uri": "https://localhost:8080/"
        },
        "id": "O9e7qVpx5ZDj",
        "outputId": "009a00d8-660a-44de-bf9d-beb3ddaa8624"
      },
      "source": [
        "from tensorflow.keras.callbacks import EarlyStopping\n",
        "\n",
        "# Need to change the delta value?\n",
        "early_stop = EarlyStopping(monitor='val_loss',min_delta=0.001)\n",
        "\n",
        "# Need to change the number of epoch?\n",
        "# Split the X_train and y_train by 0.2 for validation\n",
        "model2.fit(X_train_encoded_padded,y_train,\n",
        "          batch_size=128,\n",
        "          epochs=10,\n",
        "          validation_split=0.2,\n",
        "          callbacks=[early_stop])"
      ],
      "execution_count": null,
      "outputs": [
        {
          "output_type": "stream",
          "text": [
            "Epoch 1/10\n",
            "103/103 [==============================] - 4s 9ms/step - loss: 0.3859 - accuracy: 0.7585 - val_loss: 0.0434 - val_accuracy: 0.9842\n",
            "Epoch 2/10\n",
            "103/103 [==============================] - 1s 8ms/step - loss: 0.0483 - accuracy: 0.9822 - val_loss: 0.0155 - val_accuracy: 0.9942\n",
            "Epoch 3/10\n",
            "103/103 [==============================] - 1s 8ms/step - loss: 0.0226 - accuracy: 0.9927 - val_loss: 0.0121 - val_accuracy: 0.9945\n",
            "Epoch 4/10\n",
            "103/103 [==============================] - 1s 8ms/step - loss: 0.0157 - accuracy: 0.9944 - val_loss: 0.0114 - val_accuracy: 0.9948\n"
          ],
          "name": "stdout"
        },
        {
          "output_type": "execute_result",
          "data": {
            "text/plain": [
              "<tensorflow.python.keras.callbacks.History at 0x7f1c0605b4d0>"
            ]
          },
          "metadata": {
            "tags": []
          },
          "execution_count": 13
        }
      ]
    },
    {
      "cell_type": "markdown",
      "metadata": {
        "id": "CWQ9Py-iphZ8"
      },
      "source": [
        "## Verification \n",
        "\n",
        "Verification using X_test"
      ]
    },
    {
      "cell_type": "code",
      "metadata": {
        "id": "Fhi5zIJm6K5V",
        "colab": {
          "base_uri": "https://localhost:8080/"
        },
        "outputId": "4f13acad-604a-42f1-ab77-3aa321c514e1"
      },
      "source": [
        "# Prepare the input data X_test same as X_train. \n",
        "\n",
        "X_test_encoded = t.texts_to_sequences(X_test)\n",
        "X_test_encoded_padded = pad_sequences(X_test_encoded, maxlen=max_length, padding='pre')\n",
        "print(X_test_encoded_padded[0])"
      ],
      "execution_count": null,
      "outputs": [
        {
          "output_type": "stream",
          "text": [
            "[   0    0    0    5    1    1    2    3   14   11    3   63  102   12\n",
            "   13    4    6    7    8   15 9782    9    2    2   26   32    9    5\n",
            "    1    1    2    4    6    7    8   17   16    1   18   21   22   19\n",
            "   23   10    1   20   24   25   10    1]\n"
          ],
          "name": "stdout"
        }
      ]
    },
    {
      "cell_type": "code",
      "metadata": {
        "id": "LXlMZRmZ8Z27",
        "colab": {
          "base_uri": "https://localhost:8080/"
        },
        "outputId": "ef5781ce-6258-4c08-aa0f-6e0eda167080"
      },
      "source": [
        "print(X_test_encoded_padded[23])"
      ],
      "execution_count": null,
      "outputs": [
        {
          "output_type": "stream",
          "text": [
            "[  6  34  33  35  35  35  35  35  35  35  35  35  35  35  35  35  35  91\n",
            "  88   9   2   2  26 244   9   5   1   1   2   4   6  34  33  46  40  17\n",
            "  16   1  18  21  22  19  23  10   1  20  24  25  10   1]\n"
          ],
          "name": "stdout"
        }
      ]
    },
    {
      "cell_type": "code",
      "metadata": {
        "id": "OwvH8UjC7bbv",
        "colab": {
          "base_uri": "https://localhost:8080/"
        },
        "outputId": "08a1c02f-63af-4c8c-e524-e067acfb154f"
      },
      "source": [
        "# Apply trained model on the inputs from X_test\n",
        "\n",
        "prediction = model2.predict(X_test_encoded_padded)\n",
        "prediction[0]"
      ],
      "execution_count": null,
      "outputs": [
        {
          "output_type": "execute_result",
          "data": {
            "text/plain": [
              "array([9.9775320e-01, 1.4258723e-03, 1.1625122e-05], dtype=float32)"
            ]
          },
          "metadata": {
            "tags": []
          },
          "execution_count": 16
        }
      ]
    },
    {
      "cell_type": "code",
      "metadata": {
        "id": "AznjE-mi9XQI",
        "colab": {
          "base_uri": "https://localhost:8080/",
          "height": 1000
        },
        "outputId": "28c4c5b8-4278-4564-ed4d-5901c3619dfe"
      },
      "source": [
        "# Round off the values\n",
        "# Print the results\n",
        "\n",
        "round_predictions= np.around(prediction, decimals=1)\n",
        "results_df= pd.concat([test_df, pd.DataFrame(round_predictions, columns= ['normal_pred','xss_pred','dir_pred'])], axis=1)\n",
        "\n",
        "results_df.head(50)"
      ],
      "execution_count": null,
      "outputs": [
        {
          "output_type": "execute_result",
          "data": {
            "text/html": [
              "<div>\n",
              "<style scoped>\n",
              "    .dataframe tbody tr th:only-of-type {\n",
              "        vertical-align: middle;\n",
              "    }\n",
              "\n",
              "    .dataframe tbody tr th {\n",
              "        vertical-align: top;\n",
              "    }\n",
              "\n",
              "    .dataframe thead th {\n",
              "        text-align: right;\n",
              "    }\n",
              "</style>\n",
              "<table border=\"1\" class=\"dataframe\">\n",
              "  <thead>\n",
              "    <tr style=\"text-align: right;\">\n",
              "      <th></th>\n",
              "      <th>Unnamed: 0</th>\n",
              "      <th>url</th>\n",
              "      <th>normal</th>\n",
              "      <th>xss</th>\n",
              "      <th>dir</th>\n",
              "      <th>normal_pred</th>\n",
              "      <th>xss_pred</th>\n",
              "      <th>dir_pred</th>\n",
              "    </tr>\n",
              "  </thead>\n",
              "  <tbody>\n",
              "    <tr>\n",
              "      <th>0</th>\n",
              "      <td>124</td>\n",
              "      <td>127.0.0.1 - - [03/May/2021:03:16:43 -0400] \"GE...</td>\n",
              "      <td>1</td>\n",
              "      <td>0</td>\n",
              "      <td>0</td>\n",
              "      <td>1.0</td>\n",
              "      <td>0.0</td>\n",
              "      <td>0.0</td>\n",
              "    </tr>\n",
              "    <tr>\n",
              "      <th>1</th>\n",
              "      <td>14876</td>\n",
              "      <td>127.0.0.1 - - [03/May/2021:03:14:02 -0400] \"GE...</td>\n",
              "      <td>1</td>\n",
              "      <td>0</td>\n",
              "      <td>0</td>\n",
              "      <td>0.9</td>\n",
              "      <td>0.0</td>\n",
              "      <td>0.0</td>\n",
              "    </tr>\n",
              "    <tr>\n",
              "      <th>2</th>\n",
              "      <td>13615</td>\n",
              "      <td>127.0.0.1 - - [03/May/2021:03:11:22 -0400] \"GE...</td>\n",
              "      <td>1</td>\n",
              "      <td>0</td>\n",
              "      <td>0</td>\n",
              "      <td>1.0</td>\n",
              "      <td>0.0</td>\n",
              "      <td>0.0</td>\n",
              "    </tr>\n",
              "    <tr>\n",
              "      <th>3</th>\n",
              "      <td>9841</td>\n",
              "      <td>127.0.0.1 - - [03/May/2021:03:18:58 -0400] \"GE...</td>\n",
              "      <td>1</td>\n",
              "      <td>0</td>\n",
              "      <td>0</td>\n",
              "      <td>1.0</td>\n",
              "      <td>0.0</td>\n",
              "      <td>0.0</td>\n",
              "    </tr>\n",
              "    <tr>\n",
              "      <th>4</th>\n",
              "      <td>1987</td>\n",
              "      <td>127.0.0.1 - - [03/May/2021:03:41:37 -0400] \"GE...</td>\n",
              "      <td>0</td>\n",
              "      <td>1</td>\n",
              "      <td>0</td>\n",
              "      <td>0.0</td>\n",
              "      <td>1.0</td>\n",
              "      <td>0.0</td>\n",
              "    </tr>\n",
              "    <tr>\n",
              "      <th>5</th>\n",
              "      <td>2534</td>\n",
              "      <td>127.0.0.1 - - [03/May/2021:03:40:57 -0400] \"GE...</td>\n",
              "      <td>0</td>\n",
              "      <td>1</td>\n",
              "      <td>0</td>\n",
              "      <td>0.0</td>\n",
              "      <td>1.0</td>\n",
              "      <td>0.0</td>\n",
              "    </tr>\n",
              "    <tr>\n",
              "      <th>6</th>\n",
              "      <td>10977</td>\n",
              "      <td>127.0.0.1 - - [03/May/2021:03:41:31 -0400] \"GE...</td>\n",
              "      <td>0</td>\n",
              "      <td>1</td>\n",
              "      <td>0</td>\n",
              "      <td>0.0</td>\n",
              "      <td>1.0</td>\n",
              "      <td>0.0</td>\n",
              "    </tr>\n",
              "    <tr>\n",
              "      <th>7</th>\n",
              "      <td>3309</td>\n",
              "      <td>127.0.0.1 - - [03/May/2021:03:07:36 -0400] \"GE...</td>\n",
              "      <td>1</td>\n",
              "      <td>0</td>\n",
              "      <td>0</td>\n",
              "      <td>1.0</td>\n",
              "      <td>0.0</td>\n",
              "      <td>0.0</td>\n",
              "    </tr>\n",
              "    <tr>\n",
              "      <th>8</th>\n",
              "      <td>14353</td>\n",
              "      <td>127.0.0.1 - - [03/May/2021:03:41:15 -0400] \"GE...</td>\n",
              "      <td>0</td>\n",
              "      <td>1</td>\n",
              "      <td>0</td>\n",
              "      <td>0.0</td>\n",
              "      <td>1.0</td>\n",
              "      <td>0.0</td>\n",
              "    </tr>\n",
              "    <tr>\n",
              "      <th>9</th>\n",
              "      <td>5710</td>\n",
              "      <td>127.0.0.1 - - [03/May/2021:03:40:49 -0400] \"GE...</td>\n",
              "      <td>0</td>\n",
              "      <td>1</td>\n",
              "      <td>0</td>\n",
              "      <td>0.0</td>\n",
              "      <td>1.0</td>\n",
              "      <td>0.0</td>\n",
              "    </tr>\n",
              "    <tr>\n",
              "      <th>10</th>\n",
              "      <td>12681</td>\n",
              "      <td>127.0.0.1 - - [03/May/2021:03:40:27 -0400] \"GE...</td>\n",
              "      <td>0</td>\n",
              "      <td>1</td>\n",
              "      <td>0</td>\n",
              "      <td>0.0</td>\n",
              "      <td>1.0</td>\n",
              "      <td>0.0</td>\n",
              "    </tr>\n",
              "    <tr>\n",
              "      <th>11</th>\n",
              "      <td>12544</td>\n",
              "      <td>127.0.0.1 - - [03/May/2021:03:28:01 -0400] \"GE...</td>\n",
              "      <td>1</td>\n",
              "      <td>0</td>\n",
              "      <td>0</td>\n",
              "      <td>1.0</td>\n",
              "      <td>0.0</td>\n",
              "      <td>0.0</td>\n",
              "    </tr>\n",
              "    <tr>\n",
              "      <th>12</th>\n",
              "      <td>3264</td>\n",
              "      <td>127.0.0.1 - - [03/May/2021:10:23:24 -0400] \"GE...</td>\n",
              "      <td>1</td>\n",
              "      <td>0</td>\n",
              "      <td>0</td>\n",
              "      <td>1.0</td>\n",
              "      <td>0.0</td>\n",
              "      <td>0.0</td>\n",
              "    </tr>\n",
              "    <tr>\n",
              "      <th>13</th>\n",
              "      <td>20042</td>\n",
              "      <td>127.0.0.1 - - [03/May/2021:02:34:53 -0400] \"GE...</td>\n",
              "      <td>0</td>\n",
              "      <td>1</td>\n",
              "      <td>0</td>\n",
              "      <td>0.0</td>\n",
              "      <td>1.0</td>\n",
              "      <td>0.0</td>\n",
              "    </tr>\n",
              "    <tr>\n",
              "      <th>14</th>\n",
              "      <td>7085</td>\n",
              "      <td>127.0.0.1 - - [03/May/2021:03:19:27 -0400] \"GE...</td>\n",
              "      <td>1</td>\n",
              "      <td>0</td>\n",
              "      <td>0</td>\n",
              "      <td>1.0</td>\n",
              "      <td>0.0</td>\n",
              "      <td>0.0</td>\n",
              "    </tr>\n",
              "    <tr>\n",
              "      <th>15</th>\n",
              "      <td>12672</td>\n",
              "      <td>127.0.0.1 - - [03/May/2021:02:35:14 -0400] \"GE...</td>\n",
              "      <td>0</td>\n",
              "      <td>1</td>\n",
              "      <td>0</td>\n",
              "      <td>0.0</td>\n",
              "      <td>1.0</td>\n",
              "      <td>0.0</td>\n",
              "    </tr>\n",
              "    <tr>\n",
              "      <th>16</th>\n",
              "      <td>8665</td>\n",
              "      <td>127.0.0.1 - - [03/May/2021:03:27:04 -0400] \"GE...</td>\n",
              "      <td>1</td>\n",
              "      <td>0</td>\n",
              "      <td>0</td>\n",
              "      <td>1.0</td>\n",
              "      <td>0.0</td>\n",
              "      <td>0.0</td>\n",
              "    </tr>\n",
              "    <tr>\n",
              "      <th>17</th>\n",
              "      <td>4304</td>\n",
              "      <td>127.0.0.1 - - [03/May/2021:10:06:28 -0400] \"GE...</td>\n",
              "      <td>0</td>\n",
              "      <td>0</td>\n",
              "      <td>1</td>\n",
              "      <td>0.0</td>\n",
              "      <td>0.0</td>\n",
              "      <td>1.0</td>\n",
              "    </tr>\n",
              "    <tr>\n",
              "      <th>18</th>\n",
              "      <td>9083</td>\n",
              "      <td>127.0.0.1 - - [03/May/2021:03:19:03 -0400] \"GE...</td>\n",
              "      <td>1</td>\n",
              "      <td>0</td>\n",
              "      <td>0</td>\n",
              "      <td>1.0</td>\n",
              "      <td>0.0</td>\n",
              "      <td>0.0</td>\n",
              "    </tr>\n",
              "    <tr>\n",
              "      <th>19</th>\n",
              "      <td>17942</td>\n",
              "      <td>127.0.0.1 - - [03/May/2021:03:13:09 -0400] \"GE...</td>\n",
              "      <td>1</td>\n",
              "      <td>0</td>\n",
              "      <td>0</td>\n",
              "      <td>1.0</td>\n",
              "      <td>0.0</td>\n",
              "      <td>0.0</td>\n",
              "    </tr>\n",
              "    <tr>\n",
              "      <th>20</th>\n",
              "      <td>1592</td>\n",
              "      <td>127.0.0.1 - - [03/May/2021:03:17:09 -0400] \"GE...</td>\n",
              "      <td>1</td>\n",
              "      <td>0</td>\n",
              "      <td>0</td>\n",
              "      <td>1.0</td>\n",
              "      <td>0.0</td>\n",
              "      <td>0.0</td>\n",
              "    </tr>\n",
              "    <tr>\n",
              "      <th>21</th>\n",
              "      <td>5975</td>\n",
              "      <td>127.0.0.1 - - [03/May/2021:03:41:09 -0400] \"GE...</td>\n",
              "      <td>0</td>\n",
              "      <td>1</td>\n",
              "      <td>0</td>\n",
              "      <td>0.0</td>\n",
              "      <td>1.0</td>\n",
              "      <td>0.0</td>\n",
              "    </tr>\n",
              "    <tr>\n",
              "      <th>22</th>\n",
              "      <td>5284</td>\n",
              "      <td>127.0.0.1 - - [03/May/2021:10:05:17 -0400] \"GE...</td>\n",
              "      <td>0</td>\n",
              "      <td>0</td>\n",
              "      <td>1</td>\n",
              "      <td>0.0</td>\n",
              "      <td>0.0</td>\n",
              "      <td>1.0</td>\n",
              "    </tr>\n",
              "    <tr>\n",
              "      <th>23</th>\n",
              "      <td>28</td>\n",
              "      <td>127.0.0.1 - - [03/May/2021:10:05:37 -0400] \"GE...</td>\n",
              "      <td>0</td>\n",
              "      <td>0</td>\n",
              "      <td>1</td>\n",
              "      <td>0.0</td>\n",
              "      <td>0.0</td>\n",
              "      <td>1.0</td>\n",
              "    </tr>\n",
              "    <tr>\n",
              "      <th>24</th>\n",
              "      <td>18119</td>\n",
              "      <td>127.0.0.1 - - [03/May/2021:03:17:50 -0400] \"GE...</td>\n",
              "      <td>1</td>\n",
              "      <td>0</td>\n",
              "      <td>0</td>\n",
              "      <td>1.0</td>\n",
              "      <td>0.0</td>\n",
              "      <td>0.0</td>\n",
              "    </tr>\n",
              "    <tr>\n",
              "      <th>25</th>\n",
              "      <td>9316</td>\n",
              "      <td>127.0.0.1 - - [03/May/2021:03:40:17 -0400] \"GE...</td>\n",
              "      <td>0</td>\n",
              "      <td>1</td>\n",
              "      <td>0</td>\n",
              "      <td>0.0</td>\n",
              "      <td>1.0</td>\n",
              "      <td>0.0</td>\n",
              "    </tr>\n",
              "    <tr>\n",
              "      <th>26</th>\n",
              "      <td>1036</td>\n",
              "      <td>127.0.0.1 - - [03/May/2021:03:40:59 -0400] \"GE...</td>\n",
              "      <td>0</td>\n",
              "      <td>1</td>\n",
              "      <td>0</td>\n",
              "      <td>0.0</td>\n",
              "      <td>1.0</td>\n",
              "      <td>0.0</td>\n",
              "    </tr>\n",
              "    <tr>\n",
              "      <th>27</th>\n",
              "      <td>10436</td>\n",
              "      <td>127.0.0.1 - - [03/May/2021:03:05:52 -0400] \"GE...</td>\n",
              "      <td>1</td>\n",
              "      <td>0</td>\n",
              "      <td>0</td>\n",
              "      <td>1.0</td>\n",
              "      <td>0.0</td>\n",
              "      <td>0.0</td>\n",
              "    </tr>\n",
              "    <tr>\n",
              "      <th>28</th>\n",
              "      <td>11381</td>\n",
              "      <td>127.0.0.1 - - [03/May/2021:03:06:32 -0400] \"GE...</td>\n",
              "      <td>1</td>\n",
              "      <td>0</td>\n",
              "      <td>0</td>\n",
              "      <td>1.0</td>\n",
              "      <td>0.0</td>\n",
              "      <td>0.0</td>\n",
              "    </tr>\n",
              "    <tr>\n",
              "      <th>29</th>\n",
              "      <td>6614</td>\n",
              "      <td>127.0.0.1 - - [03/May/2021:03:40:38 -0400] \"GE...</td>\n",
              "      <td>0</td>\n",
              "      <td>1</td>\n",
              "      <td>0</td>\n",
              "      <td>0.0</td>\n",
              "      <td>1.0</td>\n",
              "      <td>0.0</td>\n",
              "    </tr>\n",
              "    <tr>\n",
              "      <th>30</th>\n",
              "      <td>5441</td>\n",
              "      <td>127.0.0.1 - - [03/May/2021:03:27:44 -0400] \"GE...</td>\n",
              "      <td>1</td>\n",
              "      <td>0</td>\n",
              "      <td>0</td>\n",
              "      <td>1.0</td>\n",
              "      <td>0.0</td>\n",
              "      <td>0.0</td>\n",
              "    </tr>\n",
              "    <tr>\n",
              "      <th>31</th>\n",
              "      <td>15238</td>\n",
              "      <td>127.0.0.1 - - [03/May/2021:03:13:40 -0400] \"GE...</td>\n",
              "      <td>1</td>\n",
              "      <td>0</td>\n",
              "      <td>0</td>\n",
              "      <td>0.9</td>\n",
              "      <td>0.1</td>\n",
              "      <td>0.0</td>\n",
              "    </tr>\n",
              "    <tr>\n",
              "      <th>32</th>\n",
              "      <td>13022</td>\n",
              "      <td>127.0.0.1 - - [03/May/2021:10:05:17 -0400] \"GE...</td>\n",
              "      <td>0</td>\n",
              "      <td>0</td>\n",
              "      <td>1</td>\n",
              "      <td>0.0</td>\n",
              "      <td>0.0</td>\n",
              "      <td>1.0</td>\n",
              "    </tr>\n",
              "    <tr>\n",
              "      <th>33</th>\n",
              "      <td>10930</td>\n",
              "      <td>127.0.0.1 - - [03/May/2021:03:22:31 -0400] \"GE...</td>\n",
              "      <td>1</td>\n",
              "      <td>0</td>\n",
              "      <td>0</td>\n",
              "      <td>1.0</td>\n",
              "      <td>0.0</td>\n",
              "      <td>0.0</td>\n",
              "    </tr>\n",
              "    <tr>\n",
              "      <th>34</th>\n",
              "      <td>7899</td>\n",
              "      <td>127.0.0.1 - - [03/May/2021:03:41:40 -0400] \"GE...</td>\n",
              "      <td>0</td>\n",
              "      <td>1</td>\n",
              "      <td>0</td>\n",
              "      <td>0.0</td>\n",
              "      <td>1.0</td>\n",
              "      <td>0.0</td>\n",
              "    </tr>\n",
              "    <tr>\n",
              "      <th>35</th>\n",
              "      <td>1486</td>\n",
              "      <td>127.0.0.1 - - [03/May/2021:03:07:23 -0400] \"GE...</td>\n",
              "      <td>1</td>\n",
              "      <td>0</td>\n",
              "      <td>0</td>\n",
              "      <td>1.0</td>\n",
              "      <td>0.0</td>\n",
              "      <td>0.0</td>\n",
              "    </tr>\n",
              "    <tr>\n",
              "      <th>36</th>\n",
              "      <td>7970</td>\n",
              "      <td>127.0.0.1 - - [03/May/2021:03:41:25 -0400] \"GE...</td>\n",
              "      <td>0</td>\n",
              "      <td>1</td>\n",
              "      <td>0</td>\n",
              "      <td>0.0</td>\n",
              "      <td>1.0</td>\n",
              "      <td>0.0</td>\n",
              "    </tr>\n",
              "    <tr>\n",
              "      <th>37</th>\n",
              "      <td>18652</td>\n",
              "      <td>127.0.0.1 - - [03/May/2021:03:40:27 -0400] \"GE...</td>\n",
              "      <td>0</td>\n",
              "      <td>1</td>\n",
              "      <td>0</td>\n",
              "      <td>0.0</td>\n",
              "      <td>1.0</td>\n",
              "      <td>0.0</td>\n",
              "    </tr>\n",
              "    <tr>\n",
              "      <th>38</th>\n",
              "      <td>14211</td>\n",
              "      <td>127.0.0.1 - - [03/May/2021:03:11:09 -0400] \"GE...</td>\n",
              "      <td>1</td>\n",
              "      <td>0</td>\n",
              "      <td>0</td>\n",
              "      <td>1.0</td>\n",
              "      <td>0.0</td>\n",
              "      <td>0.0</td>\n",
              "    </tr>\n",
              "    <tr>\n",
              "      <th>39</th>\n",
              "      <td>13411</td>\n",
              "      <td>127.0.0.1 - - [03/May/2021:03:06:37 -0400] \"GE...</td>\n",
              "      <td>1</td>\n",
              "      <td>0</td>\n",
              "      <td>0</td>\n",
              "      <td>1.0</td>\n",
              "      <td>0.0</td>\n",
              "      <td>0.0</td>\n",
              "    </tr>\n",
              "    <tr>\n",
              "      <th>40</th>\n",
              "      <td>15142</td>\n",
              "      <td>127.0.0.1 - - [03/May/2021:03:26:44 -0400] \"GE...</td>\n",
              "      <td>1</td>\n",
              "      <td>0</td>\n",
              "      <td>0</td>\n",
              "      <td>1.0</td>\n",
              "      <td>0.0</td>\n",
              "      <td>0.0</td>\n",
              "    </tr>\n",
              "    <tr>\n",
              "      <th>41</th>\n",
              "      <td>18685</td>\n",
              "      <td>127.0.0.1 - - [03/May/2021:03:19:11 -0400] \"GE...</td>\n",
              "      <td>1</td>\n",
              "      <td>0</td>\n",
              "      <td>0</td>\n",
              "      <td>1.0</td>\n",
              "      <td>0.0</td>\n",
              "      <td>0.0</td>\n",
              "    </tr>\n",
              "    <tr>\n",
              "      <th>42</th>\n",
              "      <td>20043</td>\n",
              "      <td>127.0.0.1 - - [03/May/2021:03:21:38 -0400] \"GE...</td>\n",
              "      <td>1</td>\n",
              "      <td>0</td>\n",
              "      <td>0</td>\n",
              "      <td>1.0</td>\n",
              "      <td>0.0</td>\n",
              "      <td>0.0</td>\n",
              "    </tr>\n",
              "    <tr>\n",
              "      <th>43</th>\n",
              "      <td>7358</td>\n",
              "      <td>127.0.0.1 - - [03/May/2021:02:35:09 -0400] \"GE...</td>\n",
              "      <td>0</td>\n",
              "      <td>1</td>\n",
              "      <td>0</td>\n",
              "      <td>0.0</td>\n",
              "      <td>1.0</td>\n",
              "      <td>0.0</td>\n",
              "    </tr>\n",
              "    <tr>\n",
              "      <th>44</th>\n",
              "      <td>17499</td>\n",
              "      <td>127.0.0.1 - - [03/May/2021:03:05:58 -0400] \"GE...</td>\n",
              "      <td>1</td>\n",
              "      <td>0</td>\n",
              "      <td>0</td>\n",
              "      <td>1.0</td>\n",
              "      <td>0.0</td>\n",
              "      <td>0.0</td>\n",
              "    </tr>\n",
              "    <tr>\n",
              "      <th>45</th>\n",
              "      <td>9116</td>\n",
              "      <td>127.0.0.1 - - [03/May/2021:02:35:11 -0400] \"GE...</td>\n",
              "      <td>0</td>\n",
              "      <td>1</td>\n",
              "      <td>0</td>\n",
              "      <td>0.0</td>\n",
              "      <td>1.0</td>\n",
              "      <td>0.0</td>\n",
              "    </tr>\n",
              "    <tr>\n",
              "      <th>46</th>\n",
              "      <td>11351</td>\n",
              "      <td>127.0.0.1 - - [03/May/2021:03:07:58 -0400] \"GE...</td>\n",
              "      <td>1</td>\n",
              "      <td>0</td>\n",
              "      <td>0</td>\n",
              "      <td>1.0</td>\n",
              "      <td>0.0</td>\n",
              "      <td>0.0</td>\n",
              "    </tr>\n",
              "    <tr>\n",
              "      <th>47</th>\n",
              "      <td>3663</td>\n",
              "      <td>127.0.0.1 - - [03/May/2021:02:35:13 -0400] \"GE...</td>\n",
              "      <td>0</td>\n",
              "      <td>1</td>\n",
              "      <td>0</td>\n",
              "      <td>0.0</td>\n",
              "      <td>1.0</td>\n",
              "      <td>0.0</td>\n",
              "    </tr>\n",
              "    <tr>\n",
              "      <th>48</th>\n",
              "      <td>8975</td>\n",
              "      <td>127.0.0.1 - - [03/May/2021:02:35:09 -0400] \"GE...</td>\n",
              "      <td>0</td>\n",
              "      <td>1</td>\n",
              "      <td>0</td>\n",
              "      <td>0.0</td>\n",
              "      <td>1.0</td>\n",
              "      <td>0.0</td>\n",
              "    </tr>\n",
              "    <tr>\n",
              "      <th>49</th>\n",
              "      <td>11664</td>\n",
              "      <td>127.0.0.1 - - [03/May/2021:02:35:07 -0400] \"GE...</td>\n",
              "      <td>0</td>\n",
              "      <td>1</td>\n",
              "      <td>0</td>\n",
              "      <td>0.0</td>\n",
              "      <td>1.0</td>\n",
              "      <td>0.0</td>\n",
              "    </tr>\n",
              "  </tbody>\n",
              "</table>\n",
              "</div>"
            ],
            "text/plain": [
              "    Unnamed: 0  ... dir_pred\n",
              "0          124  ...      0.0\n",
              "1        14876  ...      0.0\n",
              "2        13615  ...      0.0\n",
              "3         9841  ...      0.0\n",
              "4         1987  ...      0.0\n",
              "5         2534  ...      0.0\n",
              "6        10977  ...      0.0\n",
              "7         3309  ...      0.0\n",
              "8        14353  ...      0.0\n",
              "9         5710  ...      0.0\n",
              "10       12681  ...      0.0\n",
              "11       12544  ...      0.0\n",
              "12        3264  ...      0.0\n",
              "13       20042  ...      0.0\n",
              "14        7085  ...      0.0\n",
              "15       12672  ...      0.0\n",
              "16        8665  ...      0.0\n",
              "17        4304  ...      1.0\n",
              "18        9083  ...      0.0\n",
              "19       17942  ...      0.0\n",
              "20        1592  ...      0.0\n",
              "21        5975  ...      0.0\n",
              "22        5284  ...      1.0\n",
              "23          28  ...      1.0\n",
              "24       18119  ...      0.0\n",
              "25        9316  ...      0.0\n",
              "26        1036  ...      0.0\n",
              "27       10436  ...      0.0\n",
              "28       11381  ...      0.0\n",
              "29        6614  ...      0.0\n",
              "30        5441  ...      0.0\n",
              "31       15238  ...      0.0\n",
              "32       13022  ...      1.0\n",
              "33       10930  ...      0.0\n",
              "34        7899  ...      0.0\n",
              "35        1486  ...      0.0\n",
              "36        7970  ...      0.0\n",
              "37       18652  ...      0.0\n",
              "38       14211  ...      0.0\n",
              "39       13411  ...      0.0\n",
              "40       15142  ...      0.0\n",
              "41       18685  ...      0.0\n",
              "42       20043  ...      0.0\n",
              "43        7358  ...      0.0\n",
              "44       17499  ...      0.0\n",
              "45        9116  ...      0.0\n",
              "46       11351  ...      0.0\n",
              "47        3663  ...      0.0\n",
              "48        8975  ...      0.0\n",
              "49       11664  ...      0.0\n",
              "\n",
              "[50 rows x 8 columns]"
            ]
          },
          "metadata": {
            "tags": []
          },
          "execution_count": 18
        }
      ]
    },
    {
      "cell_type": "markdown",
      "metadata": {
        "id": "jexXpBUAqA1o"
      },
      "source": [
        "# Future Work"
      ]
    },
    {
      "cell_type": "markdown",
      "metadata": {
        "id": "5NB5FZybqE-g"
      },
      "source": [
        "1.   Calculate the ROC curve, false positive rate of the model etc. \n",
        "2.   Improve the model (e.g. accuracy, speed etc)\n",
        "3.   Increase the log sources\n",
        "\n",
        "\n",
        "*   To include more kind of web app attacks (e.g. SQLi, RCE etc) to generation more variation of logs. Refer to OSWAP. \n",
        "*   To collect logs from different kind of web servers, from different websites etc. \n",
        "*   To collect from POST request?\n",
        "\n",
        "\n",
        "\n",
        "\n"
      ]
    }
  ]
}